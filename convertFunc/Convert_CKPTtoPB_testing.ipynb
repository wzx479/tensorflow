{
 "cells": [
  {
   "cell_type": "code",
   "execution_count": 1,
   "metadata": {},
   "outputs": [
    {
     "name": "stderr",
     "output_type": "stream",
     "text": [
      "D:\\Space.Develop\\anaconda3\\envs\\tf1.2\\lib\\site-packages\\tensorflow\\python\\framework\\dtypes.py:523: FutureWarning: Passing (type, 1) or '1type' as a synonym of type is deprecated; in a future version of numpy, it will be understood as (type, (1,)) / '(1,)type'.\n",
      "  _np_qint8 = np.dtype([(\"qint8\", np.int8, 1)])\n",
      "D:\\Space.Develop\\anaconda3\\envs\\tf1.2\\lib\\site-packages\\tensorflow\\python\\framework\\dtypes.py:524: FutureWarning: Passing (type, 1) or '1type' as a synonym of type is deprecated; in a future version of numpy, it will be understood as (type, (1,)) / '(1,)type'.\n",
      "  _np_quint8 = np.dtype([(\"quint8\", np.uint8, 1)])\n",
      "D:\\Space.Develop\\anaconda3\\envs\\tf1.2\\lib\\site-packages\\tensorflow\\python\\framework\\dtypes.py:525: FutureWarning: Passing (type, 1) or '1type' as a synonym of type is deprecated; in a future version of numpy, it will be understood as (type, (1,)) / '(1,)type'.\n",
      "  _np_qint16 = np.dtype([(\"qint16\", np.int16, 1)])\n",
      "D:\\Space.Develop\\anaconda3\\envs\\tf1.2\\lib\\site-packages\\tensorflow\\python\\framework\\dtypes.py:526: FutureWarning: Passing (type, 1) or '1type' as a synonym of type is deprecated; in a future version of numpy, it will be understood as (type, (1,)) / '(1,)type'.\n",
      "  _np_quint16 = np.dtype([(\"quint16\", np.uint16, 1)])\n",
      "D:\\Space.Develop\\anaconda3\\envs\\tf1.2\\lib\\site-packages\\tensorflow\\python\\framework\\dtypes.py:527: FutureWarning: Passing (type, 1) or '1type' as a synonym of type is deprecated; in a future version of numpy, it will be understood as (type, (1,)) / '(1,)type'.\n",
      "  _np_qint32 = np.dtype([(\"qint32\", np.int32, 1)])\n",
      "D:\\Space.Develop\\anaconda3\\envs\\tf1.2\\lib\\site-packages\\tensorflow\\python\\framework\\dtypes.py:532: FutureWarning: Passing (type, 1) or '1type' as a synonym of type is deprecated; in a future version of numpy, it will be understood as (type, (1,)) / '(1,)type'.\n",
      "  np_resource = np.dtype([(\"resource\", np.ubyte, 1)])\n"
     ]
    }
   ],
   "source": [
    "import tensorflow as tf\n",
    "import os\n",
    "from tensorflow.python.framework import graph_util\n",
    "from tensorflow.python.platform import gfile\n",
    "slim = tf.contrib.slim"
   ]
  },
  {
   "cell_type": "code",
   "execution_count": 2,
   "metadata": {},
   "outputs": [],
   "source": [
    "def freeze_graph(input_checkpoint,output_graph):\n",
    "    '''\n",
    "    :param input_checkpoint:\n",
    "    :param output_graph: PB模型保存路径\n",
    "    :return:\n",
    "    '''\n",
    "    # checkpoint = tf.train.get_checkpoint_state(model_folder) #检查目录下ckpt文件状态是否可用\n",
    "    # input_checkpoint = checkpoint.model_checkpoint_path #得ckpt文件路径\n",
    " \n",
    "    # 指定输出的节点名称,该节点名称必须是原模型中存在的节点\n",
    "    output_node_names = \"InceptionV3/Logits/SpatialSqueeze\"\n",
    "    saver = tf.train.import_meta_graph(input_checkpoint + '.meta', clear_devices=True)\n",
    " \n",
    "    with tf.Session() as sess:\n",
    "        saver.restore(sess, input_checkpoint) #恢复图并得到数据\n",
    "        output_graph_def = graph_util.convert_variables_to_constants(  # 模型持久化，将变量值固定\n",
    "            sess=sess,\n",
    "            input_graph_def=sess.graph_def,# 等于:sess.graph_def\n",
    "            output_node_names=output_node_names.split(\",\"))# 如果有多个输出节点，以逗号隔开\n",
    " \n",
    "        with tf.gfile.GFile(output_graph, \"wb\") as f: #保存模型\n",
    "            f.write(output_graph_def.SerializeToString()) #序列化输出\n",
    "        print(\"%d ops in the final graph.\" % len(output_graph_def.node)) #得到当前图有几个操作节点"
   ]
  },
  {
   "cell_type": "code",
   "execution_count": 3,
   "metadata": {},
   "outputs": [
    {
     "name": "stdout",
     "output_type": "stream",
     "text": [
      "WARNING:tensorflow:From /home/leeyue/anaconda3/lib/python3.6/site-packages/tensorflow/python/training/queue_runner_impl.py:391: QueueRunner.__init__ (from tensorflow.python.training.queue_runner_impl) is deprecated and will be removed in a future version.\n",
      "Instructions for updating:\n",
      "To construct input pipelines, use the `tf.data` module.\n",
      "INFO:tensorflow:Restoring parameters from savemodel/model.ckpt-9648\n",
      "INFO:tensorflow:Froze 190 variables.\n",
      "INFO:tensorflow:Converted 190 variables to const ops.\n",
      "1005 ops in the final graph.\n"
     ]
    }
   ],
   "source": [
    "os.environ['CUDA_VISIBLE_DEVICES']=\"0\"\n",
    "# 输入ckpt模型路径\n",
    "input_checkpoint='savemodel/model.ckpt-9648'\n",
    "# 输出pb模型的路径\n",
    "out_pb_path=\"savemodel/frozen_model.pb\"\n",
    "# 调用freeze_graph将ckpt转为pb\n",
    "freeze_graph(input_checkpoint,out_pb_path)"
   ]
  },
  {
   "cell_type": "code",
   "execution_count": null,
   "metadata": {},
   "outputs": [],
   "source": []
  }
 ],
 "metadata": {
  "kernelspec": {
   "display_name": "Python [conda env:tf1.2]",
   "language": "python",
   "name": "conda-env-tf1.2-py"
  },
  "language_info": {
   "codemirror_mode": {
    "name": "ipython",
    "version": 3
   },
   "file_extension": ".py",
   "mimetype": "text/x-python",
   "name": "python",
   "nbconvert_exporter": "python",
   "pygments_lexer": "ipython3",
   "version": "3.6.2"
  }
 },
 "nbformat": 4,
 "nbformat_minor": 2
}
