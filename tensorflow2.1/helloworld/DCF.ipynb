{
 "cells": [
  {
   "cell_type": "code",
   "execution_count": 1,
   "metadata": {},
   "outputs": [
    {
     "name": "stdout",
     "output_type": "stream",
     "text": [
      "2.1.0\n"
     ]
    }
   ],
   "source": [
    "import tensorflow as tf\n",
    "from tensorflow import keras\n",
    "import matplotlib.pyplot as plt\n",
    "%matplotlib inline\n",
    "import numpy as np\n",
    "import glob\n",
    "import os\n",
    "import resnet_model\n",
    "print(tf.__version__)"
   ]
  },
  {
   "cell_type": "code",
   "execution_count": 2,
   "metadata": {},
   "outputs": [
    {
     "data": {
      "text/plain": [
       "3000"
      ]
     },
     "execution_count": 2,
     "metadata": {},
     "output_type": "execute_result"
    }
   ],
   "source": [
    "#train_image_path = glob.glob(\"./data/data_mag/train/*/*.PNG\")\n",
    "train_image_path = glob.glob(\"./data/dc_3000/train/*/*.jpg\")\n",
    "len(train_image_path)"
   ]
  },
  {
   "cell_type": "code",
   "execution_count": 3,
   "metadata": {},
   "outputs": [],
   "source": [
    "def load_preprocess_image(path,label):\n",
    "    image = tf.io.read_file(path)\n",
    "    image = tf.image.decode_jpeg(image,channels=3)\n",
    "    image = tf.image.resize(image,[256,256])\n",
    "\n",
    "    # 数据增强 -- 随机裁剪\n",
    "    #image = tf.image.random_crop(image,[256,256,3])\n",
    "    image = tf.image.random_flip_left_right(image)\n",
    "    image = tf.image.random_flip_up_down(image)\n",
    "    # image = tf.image.random_brightness(image,0.5)\n",
    "    # image = tf.image.random_contrast(image,0.3 ,1)\n",
    "\n",
    "    image = tf.cast(image,tf.float32)\n",
    "    image = image/255\n",
    "    label = tf.reshape(label,[1])\n",
    "    return image, label"
   ]
  },
  {
   "cell_type": "code",
   "execution_count": 4,
   "metadata": {},
   "outputs": [],
   "source": [
    "def load_preprocess_test_image(path,label):\n",
    "    image = tf.io.read_file(path)\n",
    "    image = tf.image.decode_jpeg(image,channels=3)\n",
    "    image = tf.image.resize(image,[256,256])\n",
    "    image = tf.cast(image,tf.float32)\n",
    "    image = image/255\n",
    "    label = tf.reshape(label,[1])\n",
    "    return image, label"
   ]
  },
  {
   "cell_type": "markdown",
   "metadata": {},
   "source": [
    "### Make traindata && label"
   ]
  },
  {
   "cell_type": "code",
   "execution_count": 5,
   "metadata": {},
   "outputs": [
    {
     "name": "stdout",
     "output_type": "stream",
     "text": [
      "[1, 1, 1, 1, 1, 1, 1, 1, 1, 1, 1, 1, 1, 1, 1, 1, 1, 1, 1, 1, 1, 1, 1, 1, 1, 1, 1, 1, 1, 1, 1, 1, 1, 1, 1, 1, 1, 1, 1, 1, 1, 1, 1, 1, 1, 1, 1, 1, 1, 1, 1, 1, 1, 1, 1, 1, 1, 1, 1, 1, 1, 1, 1, 1, 1, 1, 1, 1, 1, 1, 1, 1, 1, 1, 1, 1, 1, 1, 1, 1, 1, 1, 1, 1, 1, 1, 1, 1, 1, 1, 1, 1, 1, 1, 1, 1, 1, 1, 1, 1, 1, 1, 1, 1, 1, 1, 1, 1, 1, 1, 1, 1, 1, 1, 1, 1, 1, 1, 1, 1, 1, 1, 1, 1, 1, 1, 1, 1, 1, 1, 1, 1, 1, 1, 1, 1, 1, 1, 1, 1, 1, 1, 1, 1, 1, 1, 1, 1, 1, 1, 1, 1, 1, 1, 1, 1, 1, 1, 1, 1, 1, 1, 1, 1, 1, 1, 1, 1, 1, 1, 1, 1, 1, 1, 1, 1, 1, 1, 1, 1, 1, 1, 1, 1, 1, 1, 1, 1, 1, 1, 1, 1, 1, 1, 1, 1, 1, 1, 1, 1, 1, 1, 1, 1, 1, 1, 1, 1, 1, 1, 1, 1, 1, 1, 1, 1, 1, 1, 1, 1, 1, 1, 1, 1, 1, 1, 1, 1, 1, 1, 1, 1, 1, 1, 1, 1, 1, 1, 1, 1, 1, 1, 1, 1, 1, 1, 1, 1, 1, 1, 1, 1, 1, 1, 1, 1, 1, 1, 1, 1, 1, 1, 1, 1, 1, 1, 1, 1, 1, 1, 1, 1, 1, 1, 1, 1, 1, 1, 1, 1, 1, 1, 1, 1, 1, 1, 1, 1, 1, 1, 1, 1, 1, 1, 1, 1, 1, 1, 1, 1, 1, 1, 1, 1, 1, 1, 1, 1, 1, 1, 1, 1, 1, 1, 1, 1, 1, 1, 1, 1, 1, 1, 1, 1, 1, 1, 1, 1, 1, 1, 1, 1, 1, 1, 1, 1, 1, 1, 1, 1, 1, 1, 1, 1, 1, 1, 1, 1, 1, 1, 1, 1, 1, 1, 1, 1, 1, 1, 1, 1, 1, 1, 1, 1, 1, 1, 1, 1, 1, 1, 1, 1, 1, 1, 1, 1, 1, 1, 1, 1, 1, 1, 1, 1, 1, 1, 1, 1, 1, 1, 1, 1, 1, 1, 1, 1, 1, 1, 1, 1, 1, 1, 1, 1, 1, 1, 1, 1, 1, 1, 1, 1, 1, 1, 1, 1, 1, 1, 1, 1, 1, 1, 1, 1, 1, 1, 1, 1, 1, 1, 1, 1, 1, 1, 1, 1, 1, 1, 1, 1, 1, 1, 1, 1, 1, 1, 1, 1, 1, 1, 1, 1, 1, 1, 1, 1, 1, 1, 1, 1, 1, 1, 1, 1, 1, 1, 1, 1, 1, 1, 1, 1, 1, 1, 1, 1, 1, 1, 1, 1, 1, 1, 1, 1, 1, 1, 1, 1, 1, 1, 1, 1, 1, 1, 1, 1, 1, 1, 1, 1, 1, 1, 1, 1, 1, 1, 1, 1, 1, 1, 1, 1, 1, 1, 1, 1, 1, 1, 1, 1, 1, 1, 1, 1, 1, 1, 1, 1, 1, 1, 1, 1, 1, 1, 1, 1, 1, 1, 1, 1, 1, 1, 1, 1, 1, 1, 1, 1, 1, 1, 1, 1, 1, 1, 1, 1, 1, 1, 1, 1, 1, 1, 1, 1, 1, 1, 1, 1, 1, 1, 1, 1, 1, 1, 1, 1, 1, 1, 1, 1, 1, 1, 1, 1, 1, 1, 1, 1, 1, 1, 1, 1, 1, 1, 1, 1, 1, 1, 1, 1, 1, 1, 1, 1, 1, 1, 1, 1, 1, 1, 1, 1, 1, 1, 1, 1, 1, 1, 1, 1, 1, 1, 1, 1, 1, 1, 1, 1, 1, 1, 1, 1, 1, 1, 1, 1, 1, 1, 1, 1, 1, 1, 1, 1, 1, 1, 1, 1, 1, 1, 1, 1, 1, 1, 1, 1, 1, 1, 1, 1, 1, 1, 1, 1, 1, 1, 1, 1, 1, 1, 1, 1, 1, 1, 1, 1, 1, 1, 1, 1, 1, 1, 1, 1, 1, 1, 1, 1, 1, 1, 1, 1, 1, 1, 1, 1, 1, 1, 1, 1, 1, 1, 1, 1, 1, 1, 1, 1, 1, 1, 1, 1, 1, 1, 1, 1, 1, 1, 1, 1, 1, 1, 1, 1, 1, 1, 1, 1, 1, 1, 1, 1, 1, 1, 1, 1, 1, 1, 1, 1, 1, 1, 1, 1, 1, 1, 1, 1, 1, 1, 1, 1, 1, 1, 1, 1, 1, 1, 1, 1, 1, 1, 1, 1, 1, 1, 1, 1, 1, 1, 1, 1, 1, 1, 1, 1, 1, 1, 1, 1, 1, 1, 1, 1, 1, 1, 1, 1, 1, 1, 1, 1, 1, 1, 1, 1, 1, 1, 1, 1, 1, 1, 1, 1, 1, 1, 1, 1, 1, 1, 1, 1, 1, 1, 1, 1, 1, 1, 1, 1, 1, 1, 1, 1, 1, 1, 1, 1, 1, 1, 1, 1, 1, 1, 1, 1, 1, 1, 1, 1, 1, 1, 1, 1, 1, 1, 1, 1, 1, 1, 1, 1, 1, 1, 1, 1, 1, 1, 1, 1, 1, 1, 1, 1, 1, 1, 1, 1, 1, 1, 1, 1, 1, 1, 1, 1, 1, 1, 1, 1, 1, 1, 1, 1, 1, 1, 1, 1, 1, 1, 1, 1, 1, 1, 1, 1, 1, 1, 1, 1, 1, 1, 1, 1, 1, 1, 1, 1, 1, 1, 1, 1, 1, 1, 1, 1, 1, 1, 1, 1, 1, 1, 1, 1, 1, 1, 1, 1, 1, 1, 1, 1, 1, 1, 1, 1, 1, 1, 1, 1, 1, 1, 1, 1, 1, 1, 1, 1, 1, 1, 1, 1, 1, 1, 1, 1, 1, 1, 1, 1, 1, 1, 1, 1, 1, 1, 1, 1, 1, 1, 1, 1, 1, 1, 1, 1, 1, 1, 1, 1, 1, 1, 1, 1, 1, 1, 1, 1, 1, 1, 1, 1, 1, 1, 1, 1, 1, 1, 1, 1, 2, 2, 2, 2, 2, 2, 2, 2, 2, 2, 2, 2, 2, 2, 2, 2, 2, 2, 2, 2, 2, 2, 2, 2, 2, 2, 2, 2, 2, 2, 2, 2, 2, 2, 2, 2, 2, 2, 2, 2, 2, 2, 2, 2, 2, 2, 2, 2, 2, 2, 2, 2, 2, 2, 2, 2, 2, 2, 2, 2, 2, 2, 2, 2, 2, 2, 2, 2, 2, 2, 2, 2, 2, 2, 2, 2, 2, 2, 2, 2, 2, 2, 2, 2, 2, 2, 2, 2, 2, 2, 2, 2, 2, 2, 2, 2, 2, 2, 2, 2, 2, 2, 2, 2, 2, 2, 2, 2, 2, 2, 2, 2, 2, 2, 2, 2, 2, 2, 2, 2, 2, 2, 2, 2, 2, 2, 2, 2, 2, 2, 2, 2, 2, 2, 2, 2, 2, 2, 2, 2, 2, 2, 2, 2, 2, 2, 2, 2, 2, 2, 2, 2, 2, 2, 2, 2, 2, 2, 2, 2, 2, 2, 2, 2, 2, 2, 2, 2, 2, 2, 2, 2, 2, 2, 2, 2, 2, 2, 2, 2, 2, 2, 2, 2, 2, 2, 2, 2, 2, 2, 2, 2, 2, 2, 2, 2, 2, 2, 2, 2, 2, 2, 2, 2, 2, 2, 2, 2, 2, 2, 2, 2, 2, 2, 2, 2, 2, 2, 2, 2, 2, 2, 2, 2, 2, 2, 2, 2, 2, 2, 2, 2, 2, 2, 2, 2, 2, 2, 2, 2, 2, 2, 2, 2, 2, 2, 2, 2, 2, 2, 2, 2, 2, 2, 2, 2, 2, 2, 2, 2, 2, 2, 2, 2, 2, 2, 2, 2, 2, 2, 2, 2, 2, 2, 2, 2, 2, 2, 2, 2, 2, 2, 2, 2, 2, 2, 2, 2, 2, 2, 2, 2, 2, 2, 2, 2, 2, 2, 2, 2, 2, 2, 2, 2, 2, 2, 2, 2, 2, 2, 2, 2, 2, 2, 2, 2, 2, 2, 2, 2, 2, 2, 2, 2, 2, 2, 2, 2, 2, 2, 2, 2, 2, 2, 2, 2, 2, 2, 2, 2, 2, 2, 2, 2, 2, 2, 2, 2, 2, 2, 2, 2, 2, 2, 2, 2, 2, 2, 2, 2, 2, 2, 2, 2, 2, 2, 2, 2, 2, 2, 2, 2, 2, 2, 2, 2, 2, 2, 2, 2, 2, 2, 2, 2, 2, 2, 2, 2, 2, 2, 2, 2, 2, 2, 2, 2, 2, 2, 2, 2, 2, 2, 2, 2, 2, 2, 2, 2, 2, 2, 2, 2, 2, 2, 2, 2, 2, 2, 2, 2, 2, 2, 2, 2, 2, 2, 2, 2, 2, 2, 2, 2, 2, 2, 2, 2, 2, 2, 2, 2, 2, 2, 2, 2, 2, 2, 2, 2, 2, 2, 2, 2, 2, 2, 2, 2, 2, 2, 2, 2, 2, 2, 2, 2, 2, 2, 2, 2, 2, 2, 2, 2, 2, 2, 2, 2, 2, 2, 2, 2, 2, 2, 2, 2, 2, 2, 2, 2, 2, 2, 2, 2, 2, 2, 2, 2, 2, 2, 2, 2, 2, 2, 2, 2, 2, 2, 2, 2, 2, 2, 2, 2, 2, 2, 2, 2, 2, 2, 2, 2, 2, 2, 2, 2, 2, 2, 2, 2, 2, 2, 2, 2, 2, 2, 2, 2, 2, 2, 2, 2, 2, 2, 2, 2, 2, 2, 2, 2, 2, 2, 2, 2, 2, 2, 2, 2, 2, 2, 2, 2, 2, 2, 2, 2, 2, 2, 2, 2, 2, 2, 2, 2, 2, 2, 2, 2, 2, 2, 2, 2, 2, 2, 2, 2, 2, 2, 2, 2, 2, 2, 2, 2, 2, 2, 2, 2, 2, 2, 2, 2, 2, 2, 2, 2, 2, 2, 2, 2, 2, 2, 2, 2, 2, 2, 2, 2, 2, 2, 2, 2, 2, 2, 2, 2, 2, 2, 2, 2, 2, 2, 2, 2, 2, 2, 2, 2, 2, 2, 2, 2, 2, 2, 2, 2, 2, 2, 2, 2, 2, 2, 2, 2, 2, 2, 2, 2, 2, 2, 2, 2, 2, 2, 2, 2, 2, 2, 2, 2, 2, 2, 2, 2, 2, 2, 2, 2, 2, 2, 2, 2, 2, 2, 2, 2, 2, 2, 2, 2, 2, 2, 2, 2, 2, 2, 2, 2, 2, 2, 2, 2, 2, 2, 2, 2, 2, 2, 2, 2, 2, 2, 2, 2, 2, 2, 2, 2, 2, 2, 2, 2, 2, 2, 2, 2, 2, 2, 2, 2, 2, 2, 2, 2, 2, 2, 2, 2, 2, 2, 2, 2, 2, 2, 2, 2, 2, 2, 2, 2, 2, 2, 2, 2, 2, 2, 2, 2, 2, 2, 2, 2, 2, 2, 2, 2, 2, 2, 2, 2, 2, 2, 2, 2, 2, 2, 2, 2, 2, 2, 2, 2, 2, 2, 2, 2, 2, 2, 2, 2, 2, 2, 2, 2, 2, 2, 2, 2, 2, 2, 2, 2, 2, 2, 2, 2, 2, 2, 2, 2, 2, 2, 2, 2, 2, 2, 2, 2, 2, 2, 2, 2, 2, 2, 2, 2, 2, 2, 2, 2, 2, 2, 2, 2, 2, 2, 2, 2, 2, 2, 2, 2, 2, 2, 2, 2, 2, 2, 2, 2, 2, 2, 2, 2, 2, 2, 2, 2, 2, 2, 2, 2, 2, 2, 2, 2, 2, 2, 2, 2, 2, 2, 2, 2, 2, 2, 2, 2, 2, 2, 2, 2, 2, 2, 2, 2, 2, 2, 2, 2, 2, 2, 2, 2, 2, 2, 2, 2, 2, 2, 2, 2, 2, 2, 2, 2, 2, 2, 2, 2, 2, 2, 2, 2, 2, 2, 2, 2, 2, 2, 2, 2, 2, 2, 2, 2, 2, 2, 2, 2, 2, 2, 2, 2, 2, 2, 2, 2, 2, 2, 2, 2, 2, 2, 2, 2, 2, 2, 2, 2, 2, 2, 2, 2, 2, 2, 2, 2, 2, 2, 2, 2, 2, 2, 2, 2, 2, 2, 2, 2, 2, 2, 2, 2, 2, 2, 2, 2, 2, 2, 2, 2, 2, 2, 2, 2, 2, 2, 2, 2, 2, 2, 2, 2, 2, 2, 2, 2, 2, 2, 2, 2, 3, 3, 3, 3, 3, 3, 3, 3, 3, 3, 3, 3, 3, 3, 3, 3, 3, 3, 3, 3, 3, 3, 3, 3, 3, 3, 3, 3, 3, 3, 3, 3, 3, 3, 3, 3, 3, 3, 3, 3, 3, 3, 3, 3, 3, 3, 3, 3, 3, 3, 3, 3, 3, 3, 3, 3, 3, 3, 3, 3, 3, 3, 3, 3, 3, 3, 3, 3, 3, 3, 3, 3, 3, 3, 3, 3, 3, 3, 3, 3, 3, 3, 3, 3, 3, 3, 3, 3, 3, 3, 3, 3, 3, 3, 3, 3, 3, 3, 3, 3, 3, 3, 3, 3, 3, 3, 3, 3, 3, 3, 3, 3, 3, 3, 3, 3, 3, 3, 3, 3, 3, 3, 3, 3, 3, 3, 3, 3, 3, 3, 3, 3, 3, 3, 3, 3, 3, 3, 3, 3, 3, 3, 3, 3, 3, 3, 3, 3, 3, 3, 3, 3, 3, 3, 3, 3, 3, 3, 3, 3, 3, 3, 3, 3, 3, 3, 3, 3, 3, 3, 3, 3, 3, 3, 3, 3, 3, 3, 3, 3, 3, 3, 3, 3, 3, 3, 3, 3, 3, 3, 3, 3, 3, 3, 3, 3, 3, 3, 3, 3, 3, 3, 3, 3, 3, 3, 3, 3, 3, 3, 3, 3, 3, 3, 3, 3, 3, 3, 3, 3, 3, 3, 3, 3, 3, 3, 3, 3, 3, 3, 3, 3, 3, 3, 3, 3, 3, 3, 3, 3, 3, 3, 3, 3, 3, 3, 3, 3, 3, 3, 3, 3, 3, 3, 3, 3, 3, 3, 3, 3, 3, 3, 3, 3, 3, 3, 3, 3, 3, 3, 3, 3, 3, 3, 3, 3, 3, 3, 3, 3, 3, 3, 3, 3, 3, 3, 3, 3, 3, 3, 3, 3, 3, 3, 3, 3, 3, 3, 3, 3, 3, 3, 3, 3, 3, 3, 3, 3, 3, 3, 3, 3, 3, 3, 3, 3, 3, 3, 3, 3, 3, 3, 3, 3, 3, 3, 3, 3, 3, 3, 3, 3, 3, 3, 3, 3, 3, 3, 3, 3, 3, 3, 3, 3, 3, 3, 3, 3, 3, 3, 3, 3, 3, 3, 3, 3, 3, 3, 3, 3, 3, 3, 3, 3, 3, 3, 3, 3, 3, 3, 3, 3, 3, 3, 3, 3, 3, 3, 3, 3, 3, 3, 3, 3, 3, 3, 3, 3, 3, 3, 3, 3, 3, 3, 3, 3, 3, 3, 3, 3, 3, 3, 3, 3, 3, 3, 3, 3, 3, 3, 3, 3, 3, 3, 3, 3, 3, 3, 3, 3, 3, 3, 3, 3, 3, 3, 3, 3, 3, 3, 3, 3, 3, 3, 3, 3, 3, 3, 3, 3, 3, 3, 3, 3, 3, 3, 3, 3, 3, 3, 3, 3, 3, 3, 3, 3, 3, 3, 3, 3, 3, 3, 3, 3, 3, 3, 3, 3, 3, 3, 3, 3, 3, 3, 3, 3, 3, 3, 3, 3, 3, 3, 3, 3, 3, 3, 3, 3, 3, 3, 3, 3, 3, 3, 3, 3, 3, 3, 3, 3, 3, 3, 3, 3, 3, 3, 3, 3, 3, 3, 3, 3, 3, 3, 3, 3, 3, 3, 3, 3, 3, 3, 3, 3, 3, 3, 3, 3, 3, 3, 3, 3, 3, 3, 3, 3, 3, 3, 3, 3, 3, 3, 3, 3, 3, 3, 3, 3, 3, 3, 3, 3, 3, 3, 3, 3, 3, 3, 3, 3, 3, 3, 3, 3, 3, 3, 3, 3, 3, 3, 3, 3, 3, 3, 3, 3, 3, 3, 3, 3, 3, 3, 3, 3, 3, 3, 3, 3, 3, 3, 3, 3, 3, 3, 3, 3, 3, 3, 3, 3, 3, 3, 3, 3, 3, 3, 3, 3, 3, 3, 3, 3, 3, 3, 3, 3, 3, 3, 3, 3, 3, 3, 3, 3, 3, 3, 3, 3, 3, 3, 3, 3, 3, 3, 3, 3, 3, 3, 3, 3, 3, 3, 3, 3, 3, 3, 3, 3, 3, 3, 3, 3, 3, 3, 3, 3, 3, 3, 3, 3, 3, 3, 3, 3, 3, 3, 3, 3, 3, 3, 3, 3, 3, 3, 3, 3, 3, 3, 3, 3, 3, 3, 3, 3, 3, 3, 3, 3, 3, 3, 3, 3, 3, 3, 3, 3, 3, 3, 3, 3, 3, 3, 3, 3, 3, 3, 3, 3, 3, 3, 3, 3, 3, 3, 3, 3, 3, 3, 3, 3, 3, 3, 3, 3, 3, 3, 3, 3, 3, 3, 3, 3, 3, 3, 3, 3, 3, 3, 3, 3, 3, 3, 3, 3, 3, 3, 3, 3, 3, 3, 3, 3, 3, 3, 3, 3, 3, 3, 3, 3, 3, 3, 3, 3, 3, 3, 3, 3, 3, 3, 3, 3, 3, 3, 3, 3, 3, 3, 3, 3, 3, 3, 3, 3, 3, 3, 3, 3, 3, 3, 3, 3, 3, 3, 3, 3, 3, 3, 3, 3, 3, 3, 3, 3, 3, 3, 3, 3, 3, 3, 3, 3, 3, 3, 3, 3, 3, 3, 3, 3, 3, 3, 3, 3, 3, 3, 3, 3, 3, 3, 3, 3, 3, 3, 3, 3, 3, 3, 3, 3, 3, 3, 3, 3, 3, 3, 3, 3, 3, 3, 3, 3, 3, 3, 3, 3, 3, 3, 3, 3, 3, 3, 3, 3, 3, 3, 3, 3, 3, 3, 3, 3, 3, 3, 3, 3, 3, 3, 3, 3, 3, 3, 3, 3, 3, 3, 3, 3, 3, 3, 3, 3, 3, 3, 3, 3, 3, 3, 3, 3, 3, 3, 3, 3, 3, 3, 3, 3, 3, 3, 3, 3, 3, 3, 3, 3, 3, 3, 3, 3, 3, 3, 3, 3, 3, 3, 3, 3, 3, 3, 3, 3, 3, 3, 3, 3, 3, 3, 3, 3, 3, 3, 3, 3, 3, 3, 3, 3, 3, 3, 3, 3, 3, 3, 3, 3, 3, 3, 3, 3, 3, 3, 3, 3, 3, 3, 3, 3, 3, 3, 3, 3, 3, 3, 3, 3, 3, 3, 3, 3, 3, 3, 3, 3, 3, 3, 3, 3, 3, 3, 3, 3, 3, 3, 3, 3, 3, 3, 3, 3]\n"
     ]
    }
   ],
   "source": [
    "#train_image_label = [int((p.split(\"\\\\\")[1]))for p in train_image_path]    #only label\n",
    "#train_image_label = [tf.one_hot(int((p.split(\"\\\\\")[1])),3,on_value=1,off_value=None,axis=0)for p in train_image_path]  #one-hot\n",
    "train_image_label = [int((p.split(\"\\\\\")[1]))for p in train_image_path]  #label\n",
    "\n",
    "print(train_image_label)\n"
   ]
  },
  {
   "cell_type": "code",
   "execution_count": 6,
   "metadata": {},
   "outputs": [
    {
     "name": "stdout",
     "output_type": "stream",
     "text": [
      "tf.Tensor(1.0, shape=(), dtype=float32) tf.Tensor(1.0, shape=(), dtype=float32) tf.Tensor(2.0, shape=(), dtype=float32)\n"
     ]
    }
   ],
   "source": [
    "#train_image_label = tf.float32(train_image_label)\n",
    "train_image_label = tf.cast(train_image_label,tf.float32)\n",
    "print(train_image_label[0],train_image_label[800],train_image_label[1449])"
   ]
  },
  {
   "cell_type": "code",
   "execution_count": 7,
   "metadata": {},
   "outputs": [
    {
     "data": {
      "text/plain": [
       "<TensorSliceDataset shapes: ((), ()), types: (tf.string, tf.float32)>"
      ]
     },
     "execution_count": 7,
     "metadata": {},
     "output_type": "execute_result"
    }
   ],
   "source": [
    "train_image_ds = tf.data.Dataset.from_tensor_slices((train_image_path,train_image_label))\n",
    "train_image_ds"
   ]
  },
  {
   "cell_type": "code",
   "execution_count": 8,
   "metadata": {},
   "outputs": [],
   "source": [
    "AUTOTUNE = tf.data.experimental.AUTOTUNE\n",
    "train_image_ds = train_image_ds.map(load_preprocess_image,num_parallel_calls = AUTOTUNE)"
   ]
  },
  {
   "cell_type": "code",
   "execution_count": 9,
   "metadata": {},
   "outputs": [
    {
     "name": "stdout",
     "output_type": "stream",
     "text": [
      "tf.Tensor([1.], shape=(1,), dtype=float32)\n"
     ]
    },
    {
     "data": {
      "image/png": "[encoded data removed]",
      "text/plain": [
       "<Figure size 432x288 with 1 Axes>"
      ]
     },
     "metadata": {
      "needs_background": "light"
     },
     "output_type": "display_data"
    }
   ],
   "source": [
    "for img,label in train_image_ds.take(1):\n",
    "    print(label)\n",
    "    plt.imshow(img)"
   ]
  },
  {
   "cell_type": "code",
   "execution_count": 10,
   "metadata": {},
   "outputs": [
    {
     "data": {
      "text/plain": [
       "<ParallelMapDataset shapes: ((256, 256, 3), (1,)), types: (tf.float32, tf.float32)>"
      ]
     },
     "execution_count": 10,
     "metadata": {},
     "output_type": "execute_result"
    }
   ],
   "source": [
    "train_image_ds"
   ]
  },
  {
   "cell_type": "code",
   "execution_count": 11,
   "metadata": {},
   "outputs": [],
   "source": [
    "BATCH_SIZE = 16\n",
    "train_count = len(train_image_path)\n",
    "train_image_ds = train_image_ds.shuffle(train_count).batch(BATCH_SIZE).prefetch(AUTOTUNE) # prefetch用来加速的"
   ]
  },
  {
   "cell_type": "code",
   "execution_count": 12,
   "metadata": {},
   "outputs": [],
   "source": [
    "test_image_path = glob.glob(\"./data/dc_3000/val/*/*.jpg\") ## 不好的代码规范\n",
    "# test_image_label = [tf.one_hot(int((p.split(\"\\\\\")[1])),3,on_value=1,off_value=None,axis=0)for p in test_image_path]\n",
    "\n",
    "test_image_label = [int((p.split(\"\\\\\")[1]))for p in test_image_path]\n",
    "\n",
    "test_image_ds = tf.data.Dataset.from_tensor_slices((test_image_path,test_image_label))\n",
    "test_image_ds = test_image_ds.map(load_preprocess_test_image,num_parallel_calls = AUTOTUNE)\n",
    "test_image_ds = test_image_ds.batch(BATCH_SIZE).prefetch(AUTOTUNE)\n",
    "\n",
    "test_image_label = tf.cast(test_image_label,tf.float32)"
   ]
  },
  {
   "cell_type": "code",
   "execution_count": 13,
   "metadata": {},
   "outputs": [
    {
     "data": {
      "text/plain": [
       "<tf.Tensor: shape=(1300,), dtype=float32, numpy=array([1., 1., 1., ..., 3., 3., 3.], dtype=float32)>"
      ]
     },
     "execution_count": 13,
     "metadata": {},
     "output_type": "execute_result"
    }
   ],
   "source": [
    "test_image_label"
   ]
  },
  {
   "cell_type": "markdown",
   "metadata": {},
   "source": [
    "### Model"
   ]
  },
  {
   "cell_type": "code",
   "execution_count": 14,
   "metadata": {},
   "outputs": [],
   "source": [
    "model = keras.Sequential([\n",
    "    tf.keras.layers.Conv2D(64, (3, 3), input_shape=(256, 256, 3), activation='relu'),\n",
    "    tf.keras.layers.MaxPooling2D(),\n",
    "    tf.keras.layers.Conv2D(128, (3, 3), activation='relu'),\n",
    "    tf.keras.layers.MaxPooling2D(),\n",
    "    tf.keras.layers.GlobalAveragePooling2D(),\n",
    "    tf.keras.layers.Dense(128, activation='relu'),\n",
    "    tf.keras.layers.Dense(1)\n",
    "]) "
   ]
  },
  {
   "cell_type": "code",
   "execution_count": 15,
   "metadata": {},
   "outputs": [],
   "source": [
    "# import resnet_model\n",
    "# model = resnet_model.resnet50(\n",
    "#         num_classes = 3,\n",
    "#         use_l2_regularizer = True) \n",
    "# #[244,244]"
   ]
  },
  {
   "cell_type": "code",
   "execution_count": 16,
   "metadata": {},
   "outputs": [],
   "source": [
    "# import resnet_model2\n",
    "# model = resnet_model2.ResNet(34)"
   ]
  },
  {
   "cell_type": "markdown",
   "metadata": {},
   "source": [
    "### test"
   ]
  },
  {
   "cell_type": "code",
   "execution_count": 17,
   "metadata": {},
   "outputs": [
    {
     "data": {
      "text/plain": [
       "<tf.Tensor: shape=(16, 256, 256, 3), dtype=float32, numpy=\n",
       "array([[[[5.49019612e-02, 8.20229650e-02, 5.55619188e-02],\n",
       "         [6.04856014e-02, 8.75747055e-02, 6.12093471e-02],\n",
       "         [6.12821691e-02, 8.81050825e-02, 6.25382960e-02],\n",
       "         ...,\n",
       "         [5.39174259e-01, 3.09237123e-01, 3.31196398e-01],\n",
       "         [5.38049817e-01, 3.24954271e-01, 3.48815054e-01],\n",
       "         [5.76371014e-01, 3.73705566e-01, 4.19540167e-01]],\n",
       "\n",
       "        [[5.86703420e-02, 8.31667110e-02, 6.65594339e-02],\n",
       "         [6.34554103e-02, 8.78483206e-02, 7.17427880e-02],\n",
       "         [6.45721406e-02, 8.81015584e-02, 7.61836618e-02],\n",
       "         ...,\n",
       "         [5.68580985e-01, 3.27059805e-01, 3.65733445e-01],\n",
       "         [5.15031576e-01, 3.00315678e-01, 3.30472767e-01],\n",
       "         [5.14981747e-01, 3.24555874e-01, 3.58318120e-01]],\n",
       "\n",
       "        [[6.27451017e-02, 8.62745121e-02, 7.76897967e-02],\n",
       "         [6.48573041e-02, 8.83867145e-02, 7.98813477e-02],\n",
       "         [6.81295991e-02, 9.16590095e-02, 8.38158727e-02],\n",
       "         ...,\n",
       "         [6.17519975e-01, 3.67612273e-01, 4.20753360e-01],\n",
       "         [5.40282130e-01, 3.25323492e-01, 3.60422581e-01],\n",
       "         [4.93635118e-01, 3.15602034e-01, 3.36812049e-01]],\n",
       "\n",
       "        ...,\n",
       "\n",
       "        [[3.57396364e-01, 5.62808335e-01, 5.07356644e-01],\n",
       "         [3.50992739e-01, 5.59285998e-01, 4.89892632e-01],\n",
       "         [2.78267533e-01, 4.61646825e-01, 3.87137026e-01],\n",
       "         ...,\n",
       "         [2.74304956e-01, 2.42657050e-01, 2.10311383e-01],\n",
       "         [2.66570032e-01, 3.00864905e-01, 2.45402053e-01],\n",
       "         [3.20601791e-01, 4.02707875e-01, 3.25256884e-01]],\n",
       "\n",
       "        [[3.25231671e-01, 5.33228040e-01, 4.81280625e-01],\n",
       "         [2.63164580e-01, 4.73267198e-01, 4.03873831e-01],\n",
       "         [3.61250997e-01, 5.44630289e-01, 4.70120490e-01],\n",
       "         ...,\n",
       "         [2.87732154e-01, 2.50975102e-01, 2.17283547e-01],\n",
       "         [2.19962031e-01, 2.55116642e-01, 2.03429580e-01],\n",
       "         [2.44772345e-01, 3.37972760e-01, 2.66769886e-01]],\n",
       "\n",
       "        [[2.88388371e-01, 5.00153065e-01, 4.47311461e-01],\n",
       "         [3.29279304e-01, 5.39381921e-01, 4.69988555e-01],\n",
       "         [3.84203374e-01, 5.67582667e-01, 4.93072867e-01],\n",
       "         ...,\n",
       "         [3.36042583e-01, 2.97220647e-01, 2.60463595e-01],\n",
       "         [2.20298588e-01, 2.60607660e-01, 2.08838493e-01],\n",
       "         [1.43234819e-01, 2.47531071e-01, 1.80598214e-01]]],\n",
       "\n",
       "\n",
       "       [[[1.96078438e-02, 5.88235296e-02, 5.49019612e-02],\n",
       "         [1.96078438e-02, 5.88235296e-02, 5.49019612e-02],\n",
       "         [1.96078438e-02, 5.88235296e-02, 5.49019612e-02],\n",
       "         ...,\n",
       "         [1.17647061e-02, 4.70588244e-02, 4.31372561e-02],\n",
       "         [1.56862754e-02, 5.09803928e-02, 4.70588244e-02],\n",
       "         [1.56862754e-02, 5.09803928e-02, 4.70588244e-02]],\n",
       "\n",
       "        [[1.96078438e-02, 5.88235296e-02, 5.49019612e-02],\n",
       "         [1.96078438e-02, 5.88235296e-02, 5.49019612e-02],\n",
       "         [1.96078438e-02, 5.88235296e-02, 5.49019612e-02],\n",
       "         ...,\n",
       "         [1.17647061e-02, 4.70588244e-02, 4.31372561e-02],\n",
       "         [1.28870942e-02, 4.81812134e-02, 4.42596450e-02],\n",
       "         [1.56862754e-02, 5.09803928e-02, 4.70588244e-02]],\n",
       "\n",
       "        [[1.67230945e-02, 5.59387803e-02, 5.20172119e-02],\n",
       "         [1.96078438e-02, 5.88235296e-02, 5.49019612e-02],\n",
       "         [2.34145224e-02, 6.26302063e-02, 5.87086380e-02],\n",
       "         ...,\n",
       "         [1.09617347e-02, 4.62558530e-02, 4.23342846e-02],\n",
       "         [1.17961215e-02, 4.70902398e-02, 4.31686714e-02],\n",
       "         [1.18795959e-02, 4.71737124e-02, 4.32521440e-02]],\n",
       "\n",
       "        ...,\n",
       "\n",
       "        [[7.75607256e-03, 7.44227394e-02, 1.01873718e-01],\n",
       "         [7.92661216e-03, 7.45932758e-02, 1.02044262e-01],\n",
       "         [7.50235748e-03, 7.08601996e-02, 9.74839777e-02],\n",
       "         ...,\n",
       "         [2.82781869e-02, 9.49448496e-02, 1.26317397e-01],\n",
       "         [3.35799865e-02, 1.00246653e-01, 1.33930758e-01],\n",
       "         [4.83609065e-02, 1.15027577e-01, 1.54243261e-01]],\n",
       "\n",
       "        [[4.83793393e-03, 7.15046003e-02, 9.89555791e-02],\n",
       "         [1.05044497e-02, 7.71210343e-02, 1.04572013e-01],\n",
       "         [1.62959080e-02, 7.95449615e-02, 1.06197819e-01],\n",
       "         ...,\n",
       "         [2.82781869e-02, 9.49448496e-02, 1.26317397e-01],\n",
       "         [3.57306972e-02, 1.02397367e-01, 1.41613051e-01],\n",
       "         [5.60432002e-02, 1.22709863e-01, 1.61925554e-01]],\n",
       "\n",
       "        [[2.97181378e-03, 6.96384832e-02, 9.70894620e-02],\n",
       "         [0.00000000e+00, 6.38174042e-02, 9.12683830e-02],\n",
       "         [4.13602963e-03, 6.13051467e-02, 8.95833299e-02],\n",
       "         ...,\n",
       "         [2.82781869e-02, 9.49448496e-02, 1.26317397e-01],\n",
       "         [3.95833328e-02, 1.06250003e-01, 1.45465687e-01],\n",
       "         [5.98958321e-02, 1.26562506e-01, 1.65778190e-01]]],\n",
       "\n",
       "\n",
       "       [[[3.41974907e-02, 6.12700060e-02, 8.16820785e-02],\n",
       "         [3.11314892e-02, 6.30266815e-02, 7.15613887e-02],\n",
       "         [2.94572562e-02, 6.10519275e-02, 5.58972061e-02],\n",
       "         ...,\n",
       "         [8.03408623e-01, 7.52650380e-01, 6.62232161e-01],\n",
       "         [8.08697760e-01, 7.57939458e-01, 6.65054977e-01],\n",
       "         [7.69465506e-01, 7.19940364e-01, 6.23356402e-01]],\n",
       "\n",
       "        [[2.94288937e-02, 6.44896105e-02, 8.83348659e-02],\n",
       "         [3.57974023e-02, 6.88320249e-02, 7.39484429e-02],\n",
       "         [3.75306383e-02, 6.10600486e-02, 5.32169119e-02],\n",
       "         ...,\n",
       "         [8.17304492e-01, 7.58480966e-01, 6.78888202e-01],\n",
       "         [7.68012166e-01, 7.09188640e-01, 6.18992567e-01],\n",
       "         [7.38166749e-01, 6.83264792e-01, 5.81304014e-01]],\n",
       "\n",
       "        [[3.33477259e-02, 6.03017770e-02, 7.48242959e-02],\n",
       "         [3.71964090e-02, 7.02310279e-02, 7.40544200e-02],\n",
       "         [3.52381840e-02, 7.05322996e-02, 6.32559508e-02],\n",
       "         ...,\n",
       "         [7.97465503e-01, 7.40048945e-01, 6.46883368e-01],\n",
       "         [7.29768276e-01, 6.74155354e-01, 5.73034286e-01],\n",
       "         [7.14694977e-01, 6.59793019e-01, 5.53910673e-01]],\n",
       "\n",
       "        ...,\n",
       "\n",
       "        [[5.13695359e-01, 4.82352942e-01, 4.74892765e-01],\n",
       "         [4.77122307e-01, 4.43634391e-01, 4.41359580e-01],\n",
       "         [4.07613367e-01, 3.73626649e-01, 3.74410957e-01],\n",
       "         ...,\n",
       "         [2.06392512e-01, 1.56892672e-01, 1.27493918e-01],\n",
       "         [1.94560498e-01, 1.59297019e-01, 1.32994935e-01],\n",
       "         [1.93732366e-01, 1.68925241e-01, 1.37437329e-01]],\n",
       "\n",
       "        [[5.63976049e-01, 5.46662331e-01, 5.34792185e-01],\n",
       "         [5.22163868e-01, 5.04628420e-01, 4.96093750e-01],\n",
       "         [5.00798643e-01, 4.80722219e-01, 4.79315668e-01],\n",
       "         ...,\n",
       "         [2.35269755e-01, 2.01415583e-01, 1.59353420e-01],\n",
       "         [2.15602025e-01, 1.96591601e-01, 1.51664302e-01],\n",
       "         [1.90785840e-01, 1.75543815e-01, 1.31962314e-01]],\n",
       "\n",
       "        [[6.06400013e-01, 6.00534856e-01, 5.85496426e-01],\n",
       "         [5.43827951e-01, 5.37774920e-01, 5.29221237e-01],\n",
       "         [5.85659027e-01, 5.77732503e-01, 5.77265322e-01],\n",
       "         ...,\n",
       "         [2.57827342e-01, 2.33377904e-01, 1.80482209e-01],\n",
       "         [2.38746241e-01, 2.22014681e-01, 1.74955860e-01],\n",
       "         [2.13785425e-01, 2.14007542e-01, 1.60338730e-01]]],\n",
       "\n",
       "\n",
       "       ...,\n",
       "\n",
       "\n",
       "       [[[1.01971433e-01, 9.80498642e-02, 8.72169659e-02],\n",
       "         [3.12383920e-02, 2.21808944e-02, 0.00000000e+00],\n",
       "         [9.03011560e-02, 7.78919905e-02, 0.00000000e+00],\n",
       "         ...,\n",
       "         [4.28932346e-02, 3.43596824e-02, 8.48759711e-03],\n",
       "         [6.01223819e-02, 4.48227823e-02, 2.17756685e-02],\n",
       "         [5.60101680e-02, 3.36756073e-02, 4.00941148e-02]],\n",
       "\n",
       "        [[2.21186146e-01, 2.19140857e-01, 2.04201490e-01],\n",
       "         [3.51841338e-02, 3.31022367e-02, 2.31036008e-03],\n",
       "         [1.17056094e-01, 9.41547453e-02, 1.10617245e-03],\n",
       "         ...,\n",
       "         [5.61830997e-02, 5.00282422e-02, 1.04384478e-02],\n",
       "         [7.16103911e-02, 6.10126555e-02, 2.00256351e-02],\n",
       "         [3.78792547e-02, 2.84239519e-02, 1.68467797e-02]],\n",
       "\n",
       "        [[2.28536442e-01, 2.28720278e-01, 2.14229926e-01],\n",
       "         [3.70775424e-02, 3.52425352e-02, 6.33868063e-03],\n",
       "         [1.16410799e-01, 8.83930251e-02, 7.69449864e-03],\n",
       "         ...,\n",
       "         [7.16605410e-02, 5.25843017e-02, 5.76722377e-04],\n",
       "         [7.41082877e-02, 6.03279844e-02, 1.19856289e-02],\n",
       "         [3.25061269e-02, 3.35805863e-02, 9.34436265e-03]],\n",
       "\n",
       "        ...,\n",
       "\n",
       "        [[4.80582684e-01, 4.16579306e-01, 2.21715346e-01],\n",
       "         [2.57393271e-01, 2.09084779e-01, 1.74470786e-02],\n",
       "         [2.16211662e-01, 1.83710918e-01, 3.71422879e-02],\n",
       "         ...,\n",
       "         [2.07922608e-01, 2.05645517e-01, 1.96489528e-01],\n",
       "         [2.48473763e-01, 2.51862407e-01, 2.71785468e-01],\n",
       "         [1.20951571e-01, 1.38289034e-01, 1.54682115e-01]],\n",
       "\n",
       "        [[4.56777304e-01, 4.05019373e-01, 2.26453349e-01],\n",
       "         [2.18606621e-01, 1.85227334e-01, 3.33347693e-02],\n",
       "         [1.90714523e-01, 1.63658589e-01, 4.30429503e-02],\n",
       "         ...,\n",
       "         [2.82583565e-01, 2.90867716e-01, 2.80696124e-01],\n",
       "         [2.88040340e-01, 2.93983966e-01, 3.30032885e-01],\n",
       "         [1.03311099e-01, 1.30512789e-01, 1.55026302e-01]],\n",
       "\n",
       "        [[3.91923487e-01, 3.39487821e-01, 1.95474789e-01],\n",
       "         [2.80392647e-01, 2.54285991e-01, 1.46864355e-01],\n",
       "         [2.55839616e-01, 2.33993113e-01, 1.58838853e-01],\n",
       "         ...,\n",
       "         [3.77615184e-01, 3.93394440e-01, 3.89638156e-01],\n",
       "         [3.47887814e-01, 3.60740155e-01, 4.16848570e-01],\n",
       "         [1.83932915e-01, 2.18813434e-01, 2.56309718e-01]]],\n",
       "\n",
       "\n",
       "       [[[1.89231008e-01, 4.14100796e-01, 4.56096828e-01],\n",
       "         [2.73414522e-01, 5.05085766e-01, 5.75972736e-01],\n",
       "         [2.53615201e-01, 4.91191775e-01, 5.81885695e-01],\n",
       "         ...,\n",
       "         [5.53791344e-01, 6.56395555e-01, 3.29266250e-01],\n",
       "         [4.60317105e-01, 5.81686556e-01, 2.83049941e-01],\n",
       "         [2.47901350e-01, 3.78653497e-01, 1.01363361e-01]],\n",
       "\n",
       "        [[1.96418092e-01, 4.21287864e-01, 4.66843128e-01],\n",
       "         [2.76049614e-01, 5.07720888e-01, 5.78607857e-01],\n",
       "         [2.51698285e-01, 4.89274859e-01, 5.79968810e-01],\n",
       "         ...,\n",
       "         [6.58709049e-01, 7.61313200e-01, 4.34183925e-01],\n",
       "         [5.15189230e-01, 6.41828895e-01, 3.35287005e-01],\n",
       "         [1.82948276e-01, 3.13700408e-01, 6.84432387e-02]],\n",
       "\n",
       "        [[1.95225000e-01, 4.14467275e-01, 4.67301220e-01],\n",
       "         [2.73452818e-01, 5.03280282e-01, 5.77950954e-01],\n",
       "         [2.47051165e-01, 4.84627753e-01, 5.76422811e-01],\n",
       "         ...,\n",
       "         [5.76600254e-01, 6.84879959e-01, 3.56099010e-01],\n",
       "         [5.47989726e-01, 6.77147329e-01, 3.63212943e-01],\n",
       "         [1.71886072e-01, 3.07619095e-01, 6.51067123e-02]],\n",
       "\n",
       "        ...,\n",
       "\n",
       "        [[5.21464288e-01, 6.69832826e-01, 2.60681987e-01],\n",
       "         [4.59139824e-01, 5.86409092e-01, 2.66169667e-01],\n",
       "         [6.26084387e-01, 7.39609778e-01, 4.85805869e-01],\n",
       "         ...,\n",
       "         [4.84784275e-01, 6.53318882e-01, 2.83873737e-01],\n",
       "         [6.38632596e-01, 7.87899375e-01, 4.54343945e-01],\n",
       "         [7.40929425e-01, 8.76848340e-01, 5.62053800e-01]],\n",
       "\n",
       "        [[4.00006711e-01, 5.51901162e-01, 1.57288074e-01],\n",
       "         [4.60554004e-01, 5.90884864e-01, 2.79142559e-01],\n",
       "         [6.17661953e-01, 7.32883096e-01, 4.74037260e-01],\n",
       "         ...,\n",
       "         [3.87949049e-01, 5.57505369e-01, 1.95380673e-01],\n",
       "         [6.83560550e-01, 8.31654251e-01, 5.09288788e-01],\n",
       "         [7.01623797e-01, 8.34278047e-01, 5.33167481e-01]],\n",
       "\n",
       "        [[3.48123461e-01, 5.03645837e-01, 1.28814340e-01],\n",
       "         [5.24456203e-01, 6.57490790e-01, 3.56426150e-01],\n",
       "         [6.63097441e-01, 7.79105365e-01, 5.17999411e-01],\n",
       "         ...,\n",
       "         [3.16965371e-01, 4.90012258e-01, 1.33295029e-01],\n",
       "         [6.47794127e-01, 7.93390036e-01, 4.79067087e-01],\n",
       "         [6.71882689e-01, 8.00053596e-01, 5.09757936e-01]]],\n",
       "\n",
       "\n",
       "       [[[9.05320719e-02, 3.09757978e-01, 1.38854980e-03],\n",
       "         [8.79912153e-02, 3.02490294e-01, 3.53962020e-03],\n",
       "         [1.04855165e-01, 3.13609749e-01, 7.72740971e-03],\n",
       "         ...,\n",
       "         [4.86767292e-01, 6.28540277e-01, 5.03113091e-01],\n",
       "         [4.64937687e-01, 6.28500283e-01, 4.91361320e-01],\n",
       "         [4.80872482e-01, 6.33143067e-01, 4.97852147e-01]],\n",
       "\n",
       "        [[1.00451902e-01, 3.10181260e-01, 4.54299012e-03],\n",
       "         [9.05683339e-02, 3.05894613e-01, 3.54931410e-03],\n",
       "         [9.64001790e-02, 3.11305135e-01, 6.46954682e-03],\n",
       "         ...,\n",
       "         [4.85646397e-01, 6.25531077e-01, 5.02601683e-01],\n",
       "         [4.77599621e-01, 6.21652901e-01, 4.99407172e-01],\n",
       "         [4.93924141e-01, 6.26397073e-01, 5.08050978e-01]],\n",
       "\n",
       "        [[9.03884023e-02, 3.05246621e-01, 1.27144612e-03],\n",
       "         [7.81504884e-02, 3.09168190e-01, 2.68333289e-03],\n",
       "         [8.73833746e-02, 3.10912788e-01, 8.95200204e-03],\n",
       "         ...,\n",
       "         [4.71265733e-01, 6.31263554e-01, 5.13007939e-01],\n",
       "         [4.74412680e-01, 6.27642453e-01, 5.08305192e-01],\n",
       "         [4.96503115e-01, 6.17763698e-01, 4.96613741e-01]],\n",
       "\n",
       "        ...,\n",
       "\n",
       "        [[5.12005568e-01, 4.62659180e-01, 3.25178742e-01],\n",
       "         [5.16738176e-01, 4.62471932e-01, 3.20766985e-01],\n",
       "         [5.23787379e-01, 4.77118164e-01, 3.35616529e-01],\n",
       "         ...,\n",
       "         [5.41703224e-01, 6.34428620e-01, 5.15807092e-01],\n",
       "         [5.18004477e-01, 6.19965255e-01, 5.11984229e-01],\n",
       "         [4.96054620e-01, 6.07540190e-01, 4.93933827e-01]],\n",
       "\n",
       "        [[4.90311980e-01, 4.77000087e-01, 2.95780748e-01],\n",
       "         [4.91220862e-01, 4.79096174e-01, 2.99064010e-01],\n",
       "         [5.07582843e-01, 4.78536040e-01, 3.12362075e-01],\n",
       "         ...,\n",
       "         [5.31599820e-01, 6.32013440e-01, 5.13179183e-01],\n",
       "         [5.04298389e-01, 6.15853250e-01, 5.01312792e-01],\n",
       "         [4.91949052e-01, 6.09540462e-01, 4.96796370e-01]],\n",
       "\n",
       "        [[4.95445937e-01, 4.76855755e-01, 2.98314959e-01],\n",
       "         [4.83678013e-01, 4.73736227e-01, 2.97118068e-01],\n",
       "         [4.94635135e-01, 4.99590635e-01, 3.24977845e-01],\n",
       "         ...,\n",
       "         [5.23632407e-01, 6.28362417e-01, 5.09098411e-01],\n",
       "         [4.99332637e-01, 6.14097774e-01, 4.92529124e-01],\n",
       "         [5.02006769e-01, 6.11874163e-01, 4.93933827e-01]]]],\n",
       "      dtype=float32)>"
      ]
     },
     "execution_count": 17,
     "metadata": {},
     "output_type": "execute_result"
    }
   ],
   "source": [
    "imgs, labels = next(iter(train_image_ds))\n",
    "imgs"
   ]
  },
  {
   "cell_type": "code",
   "execution_count": 18,
   "metadata": {},
   "outputs": [
    {
     "name": "stdout",
     "output_type": "stream",
     "text": [
      "(16, 1)\n",
      "tf.Tensor([-0.08770836], shape=(1,), dtype=float32)\n",
      "pred [-0.08770836] None\n",
      "tf.Tensor([1.], shape=(1,), dtype=float32)\n",
      "labels [1.] None\n"
     ]
    }
   ],
   "source": [
    "pred = model.build(imgs)\n",
    "pred = model(imgs)\n",
    "print(pred.shape)\n",
    "print('pred',pred[0].numpy(),print(pred[0]))\n",
    "print('labels',labels[0].numpy(),print(labels[0]))"
   ]
  },
  {
   "cell_type": "code",
   "execution_count": 19,
   "metadata": {},
   "outputs": [
    {
     "name": "stdout",
     "output_type": "stream",
     "text": [
      "[0 0 0 0 0 0 0 0 0 0 0 0 0 0 0 0]\n",
      "[1. 3. 1. 3. 1. 1. 3. 3. 3. 2. 2. 2. 2. 3. 2. 3.]\n"
     ]
    }
   ],
   "source": [
    "print(np.array([p[0].numpy() for p in tf.cast(pred>0,tf.int32)]))\n",
    "print(np.array([l[0].numpy() for l in labels]))"
   ]
  },
  {
   "cell_type": "markdown",
   "metadata": {},
   "source": [
    "### train"
   ]
  },
  {
   "cell_type": "code",
   "execution_count": 20,
   "metadata": {},
   "outputs": [],
   "source": [
    "ls = tf.keras.losses.BinaryCrossentropy()\n",
    "optimizer = tf.keras.optimizers.Adam()\n",
    "#optimizer = tf.keras.optimizers.SGD()"
   ]
  },
  {
   "cell_type": "code",
   "execution_count": 21,
   "metadata": {},
   "outputs": [],
   "source": [
    "# 一些用于记录中间值的metrics模块\n",
    "epoch_loss_avg = tf.keras.metrics.Mean(\"train_loss\")\n",
    "train_accuracy = tf.keras.metrics.Accuracy()\n",
    "\n",
    "epoch_loss_avg_test = tf.keras.metrics.Mean(\"test_loss\")\n",
    "test_accuracy = tf.keras.metrics.Accuracy()"
   ]
  },
  {
   "cell_type": "code",
   "execution_count": 22,
   "metadata": {},
   "outputs": [],
   "source": [
    "# 每一步训练\n",
    "def train_step(model, images, labels):\n",
    "    with tf.GradientTape() as t:\n",
    "        pred = model(images)\n",
    "        loss_step = tf.keras.losses.BinaryCrossentropy(from_logits=True)(labels, pred)\n",
    "    grads = t.gradient(loss_step, model.trainable_variables)\n",
    "    optimizer.apply_gradients(zip(grads, model.trainable_variables))\n",
    "    epoch_loss_avg(loss_step)\n",
    "    train_accuracy(labels,tf.cast(pred>0,tf.int32))\n",
    "    return pred"
   ]
  },
  {
   "cell_type": "code",
   "execution_count": 23,
   "metadata": {},
   "outputs": [],
   "source": [
    "# 每一次测试\n",
    "def test_step(model, images, labels):\n",
    "    pred = model(images)\n",
    "    loss_step = tf.keras.losses.BinaryCrossentropy(from_logits=True)(labels, pred)  # 这里参数的意思是没有激活\n",
    "    epoch_loss_avg_test(loss_step)\n",
    "    test_accuracy(labels,tf.cast(pred>0,tf.int32))\n",
    "    return pred"
   ]
  },
  {
   "cell_type": "code",
   "execution_count": 24,
   "metadata": {},
   "outputs": [],
   "source": [
    "# 定义四个个空列表进行每一个epoch的记录\n",
    "train_loss_result = []\n",
    "train_acc_result = []\n",
    "test_loss_result = []\n",
    "test_acc_result = []\n",
    "num_epochs = 1000"
   ]
  },
  {
   "cell_type": "code",
   "execution_count": null,
   "metadata": {},
   "outputs": [
    {
     "name": "stdout",
     "output_type": "stream",
     "text": [
      ".\n",
      "/tf.Tensor(\n",
      "[[1]\n",
      " [1]\n",
      " [1]\n",
      " [1]\n",
      " [1]\n",
      " [1]\n",
      " [1]\n",
      " [1]\n",
      " [1]\n",
      " [1]\n",
      " [1]\n",
      " [1]\n",
      " [1]\n",
      " [1]\n",
      " [1]\n",
      " [1]], shape=(16, 1), dtype=int32) tf.Tensor(\n",
      "[[0.130367  ]\n",
      " [0.16082366]\n",
      " [0.11219446]\n",
      " [0.13860652]\n",
      " [0.14166643]\n",
      " [0.12511905]\n",
      " [0.17758778]\n",
      " [0.14856786]\n",
      " [0.13213502]\n",
      " [0.14196661]\n",
      " [0.14166582]\n",
      " [0.14136684]\n",
      " [0.16771944]\n",
      " [0.16223237]\n",
      " [0.12604086]\n",
      " [0.10527807]], shape=(16, 1), dtype=float32)\n",
      "\n",
      "Train Epoch:1;loss0.775,accuracy:0.000,test_loss:0.625,test_accuracy:1.000;\n",
      ".\n",
      "/tf.Tensor(\n",
      "[[1]\n",
      " [1]\n",
      " [1]\n",
      " [1]\n",
      " [1]\n",
      " [1]\n",
      " [1]\n",
      " [1]\n",
      " [1]\n",
      " [1]\n",
      " [1]\n",
      " [1]\n",
      " [1]\n",
      " [1]\n",
      " [1]\n",
      " [1]], shape=(16, 1), dtype=int32) tf.Tensor(\n",
      "[[0.2982913 ]\n",
      " [0.36445507]\n",
      " [0.26352158]\n",
      " [0.31842813]\n",
      " [0.32239166]\n",
      " [0.27635026]\n",
      " [0.41438895]\n",
      " [0.34780967]\n",
      " [0.29780385]\n",
      " [0.32607654]\n",
      " [0.32772788]\n",
      " [0.32669473]\n",
      " [0.37708563]\n",
      " [0.3671771 ]\n",
      " [0.286249  ]\n",
      " [0.24259028]], shape=(16, 1), dtype=float32)\n",
      "\n",
      "Train Epoch:2;loss0.468,accuracy:0.375,test_loss:0.545,test_accuracy:1.000;\n",
      ".\n",
      "/tf.Tensor(\n",
      "[[1]\n",
      " [1]\n",
      " [1]\n",
      " [1]\n",
      " [1]\n",
      " [1]\n",
      " [1]\n",
      " [1]\n",
      " [1]\n",
      " [1]\n",
      " [1]\n",
      " [1]\n",
      " [1]\n",
      " [1]\n",
      " [1]\n",
      " [1]], shape=(16, 1), dtype=int32) tf.Tensor(\n",
      "[[0.48826784]\n",
      " [0.5933493 ]\n",
      " [0.43608442]\n",
      " [0.5221562 ]\n",
      " [0.52672577]\n",
      " [0.44779527]\n",
      " [0.68228716]\n",
      " [0.57468086]\n",
      " [0.48455983]\n",
      " [0.53490084]\n",
      " [0.540001  ]\n",
      " [0.53864986]\n",
      " [0.61541206]\n",
      " [0.5987833 ]\n",
      " [0.4696458 ]\n",
      " [0.3989921 ]], shape=(16, 1), dtype=float32)\n",
      "\n",
      "Train Epoch:3;loss0.265,accuracy:0.500,test_loss:0.464,test_accuracy:1.000;\n",
      ".\n",
      "/tf.Tensor(\n",
      "[[1]\n",
      " [1]\n",
      " [1]\n",
      " [1]\n",
      " [1]\n",
      " [1]\n",
      " [1]\n",
      " [1]\n",
      " [1]\n",
      " [1]\n",
      " [1]\n",
      " [1]\n",
      " [1]\n",
      " [1]\n",
      " [1]\n",
      " [1]], shape=(16, 1), dtype=int32) tf.Tensor(\n",
      "[[0.7343055 ]\n",
      " [0.8893123 ]\n",
      " [0.6616139 ]\n",
      " [0.7867795 ]\n",
      " [0.7913145 ]\n",
      " [0.6689803 ]\n",
      " [1.034326  ]\n",
      " [0.87141997]\n",
      " [0.7254117 ]\n",
      " [0.8059732 ]\n",
      " [0.8139612 ]\n",
      " [0.81222606]\n",
      " [0.9171537 ]\n",
      " [0.89789915]\n",
      " [0.706439  ]\n",
      " [0.60373247]], shape=(16, 1), dtype=float32)\n",
      "\n",
      "Train Epoch:4;loss-0.031,accuracy:0.438,test_loss:0.374,test_accuracy:1.000;\n",
      ".\n",
      "/tf.Tensor(\n",
      "[[1]\n",
      " [1]\n",
      " [1]\n",
      " [1]\n",
      " [1]\n",
      " [1]\n",
      " [1]\n",
      " [1]\n",
      " [1]\n",
      " [1]\n",
      " [1]\n",
      " [1]\n",
      " [1]\n",
      " [1]\n",
      " [1]\n",
      " [1]], shape=(16, 1), dtype=int32) tf.Tensor(\n",
      "[[1.0448284 ]\n",
      " [1.2695994 ]\n",
      " [0.94825673]\n",
      " [1.1172738 ]\n",
      " [1.1224309 ]\n",
      " [0.9494544 ]\n",
      " [1.4775558 ]\n",
      " [1.246049  ]\n",
      " [1.0269989 ]\n",
      " [1.1456025 ]\n",
      " [1.1538829 ]\n",
      " [1.1526375 ]\n",
      " [1.2920723 ]\n",
      " [1.2723191 ]\n",
      " [1.0012023 ]\n",
      " [0.86580235]], shape=(16, 1), dtype=float32)\n",
      "\n",
      "Train Epoch:5;loss-0.463,accuracy:0.375,test_loss:0.282,test_accuracy:1.000;\n",
      ".\n",
      "/tf.Tensor(\n",
      "[[1]\n",
      " [1]\n",
      " [1]\n",
      " [1]\n",
      " [1]\n",
      " [1]\n",
      " [1]\n",
      " [1]\n",
      " [1]\n",
      " [1]\n",
      " [1]\n",
      " [1]\n",
      " [1]\n",
      " [1]\n",
      " [1]\n",
      " [1]], shape=(16, 1), dtype=int32) tf.Tensor(\n",
      "[[1.4194249]\n",
      " [1.7282587]\n",
      " [1.2959887]\n",
      " [1.5186603]\n",
      " [1.5201393]\n",
      " [1.285476 ]\n",
      " [2.0173318]\n",
      " [1.7015611]\n",
      " [1.3877591]\n",
      " [1.5577952]\n",
      " [1.5664151]\n",
      " [1.5655248]\n",
      " [1.7440307]\n",
      " [1.7271711]\n",
      " [1.3592119]\n",
      " [1.1826481]], shape=(16, 1), dtype=float32)\n",
      "\n",
      "Train Epoch:6;loss-0.944,accuracy:0.250,test_loss:0.198,test_accuracy:1.000;\n"
     ]
    }
   ],
   "source": [
    "# 训练\n",
    "for epoch in range(num_epochs):\n",
    "    # 训练\n",
    "    for imgs_,labels_ in train_image_ds:\n",
    "        train_step(model, imgs_, labels_)\n",
    "        print(\".\",end=\"\") #仅仅是让我看到他在训练\n",
    "        break\n",
    "    print()\n",
    "\n",
    "    #  记录每次epoch 的结果\n",
    "    train_loss_result.append(epoch_loss_avg.result())\n",
    "    train_acc_result.append(train_accuracy.result())\n",
    "    \n",
    "    \n",
    "    #  测试\n",
    "    for imgs_,labels_ in test_image_ds:\n",
    "        pred_ = test_step(model, imgs_, labels_)\n",
    "        print(\"/\",end=\"\") #仅仅是让我看到他在测试\n",
    "        print(labels_,pred_)\n",
    "\n",
    "        break\n",
    "    print()\n",
    "\n",
    "    #  记录每次epoch 的结果\n",
    "    test_loss_result.append(epoch_loss_avg_test.result())\n",
    "    test_acc_result.append(test_accuracy.result())\n",
    "\n",
    "    \n",
    "    # 打印出来每个训练epoch的损失和精确值\n",
    "    print(f'Train Epoch:{epoch+1};loss{epoch_loss_avg.result():.3f},accuracy:{train_accuracy.result():.3f},test_loss:{epoch_loss_avg_test.result():.3f},test_accuracy:{test_accuracy.result():.3f};')\n",
    "\n",
    "    #  loss_avg 和 train_accuracy清零\n",
    "    epoch_loss_avg.reset_states()\n",
    "    train_accuracy.reset_states()\n",
    "    epoch_loss_avg_test.reset_states()\n",
    "    test_accuracy.reset_states()"
   ]
  },
  {
   "cell_type": "code",
   "execution_count": null,
   "metadata": {},
   "outputs": [],
   "source": []
  },
  {
   "cell_type": "code",
   "execution_count": null,
   "metadata": {},
   "outputs": [],
   "source": []
  },
  {
   "cell_type": "code",
   "execution_count": null,
   "metadata": {},
   "outputs": [],
   "source": []
  },
  {
   "cell_type": "code",
   "execution_count": null,
   "metadata": {},
   "outputs": [],
   "source": []
  },
  {
   "cell_type": "code",
   "execution_count": null,
   "metadata": {},
   "outputs": [],
   "source": []
  }
 ],
 "metadata": {
  "kernelspec": {
   "display_name": "Python 3",
   "language": "python",
   "name": "python3"
  },
  "language_info": {
   "codemirror_mode": {
    "name": "ipython",
    "version": 3
   },
   "file_extension": ".py",
   "mimetype": "text/x-python",
   "name": "python",
   "nbconvert_exporter": "python",
   "pygments_lexer": "ipython3",
   "version": "3.7.6"
  }
 },
 "nbformat": 4,
 "nbformat_minor": 4
}
