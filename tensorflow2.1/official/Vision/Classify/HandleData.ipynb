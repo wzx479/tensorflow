{
 "cells": [
  {
   "cell_type": "code",
   "execution_count": 1,
   "metadata": {},
   "outputs": [],
   "source": [
    "# 导入包\n",
    "import tensorflow as tf\n",
    "import os\n",
    "import numpy as np\n",
    "from matplotlib import pyplot as plt\n",
    "from tensorflow.keras.layers import Conv2D, BatchNormalization, Activation, MaxPool2D, Dropout, Flatten, Dense\n",
    "from tensorflow.keras import Model\n",
    "# 设置显示格式\n",
    "np.set_printoptions(threshold=np.inf)\n",
    "\n",
    "##https://zhuanlan.zhihu.com/p/138062970"
   ]
  },
  {
   "cell_type": "code",
   "execution_count": 2,
   "metadata": {},
   "outputs": [
    {
     "name": "stdout",
     "output_type": "stream",
     "text": [
      "x_train.shape (60000, 784)\n",
      "x_train.shape (60000, 28, 28, 1)\n"
     ]
    }
   ],
   "source": [
    "# -*- coding: utf-8 -*-\n",
    "# 导入数据集\n",
    "# fashion = tf.keras.datasets.fashion_mnist\n",
    "# (x_train, y_train), (x_test, y_test) = fashion.load_data()\n",
    "# x_train, x_test = x_train / 255.0, x_test / 255.0\n",
    "# print(\"x_train.shape\", x_train.shape)\n",
    "# # 给数据增加一个维度，使数据和网络结构匹配\n",
    "# x_train = x_train.reshape(x_train.shape[0], 28, 28, 1)  \n",
    "# x_test = x_test.reshape(x_test.shape[0], 28, 28, 1)\n",
    "# print(\"x_train.shape\", x_train.shape)\n",
    "\n",
    "def load_mnist(path, kind='train'):\n",
    "    import os\n",
    "    import gzip\n",
    "    import numpy as np\n",
    "\n",
    "    \"\"\"Load MNIST data from `path`\"\"\"\n",
    "    labels_path = os.path.join(path,\n",
    "                               '%s-labels-idx1-ubyte.gz'\n",
    "                               % kind)\n",
    "    images_path = os.path.join(path,\n",
    "                               '%s-images-idx3-ubyte.gz'\n",
    "                               % kind)\n",
    "\n",
    "    with gzip.open(labels_path, 'rb') as lbpath:\n",
    "        labels = np.frombuffer(lbpath.read(), dtype=np.uint8,\n",
    "                               offset=8)\n",
    "\n",
    "    with gzip.open(images_path, 'rb') as imgpath:\n",
    "        images = np.frombuffer(imgpath.read(), dtype=np.uint8,\n",
    "                               offset=16).reshape(len(labels), 784)\n",
    "\n",
    "    return images, labels\n",
    "x_train, y_train = load_mnist('F://PythonSources//Data//fashion//', kind='train')\n",
    "x_test, y_test = load_mnist('F://PythonSources//Data//fashion//', kind='t10k')\n",
    "\n",
    "x_train, x_test = x_train / 255.0, x_test / 255.0\n",
    "print(\"x_train.shape\", x_train.shape)\n",
    "# 给数据增加一个维度，使数据和网络结构匹配\n",
    "x_train = x_train.reshape(x_train.shape[0], 28, 28, 1)  \n",
    "x_test = x_test.reshape(x_test.shape[0], 28, 28, 1)\n",
    "print(\"x_train.shape\", x_train.shape)\n",
    "#train_labels\n"
   ]
  },
  {
   "cell_type": "code",
   "execution_count": 3,
   "metadata": {},
   "outputs": [],
   "source": [
    "from resnet_model3 import ResNet18\n",
    "\n",
    "# 运行，一共4个元素，所以block执行4次，每次有2个\n",
    "model = ResNet18([2, 2, 2, 2])\n",
    "\n",
    "# 设置优化器等\n",
    "model.compile(optimizer='adam',\n",
    "              loss=tf.keras.losses.SparseCategoricalCrossentropy(from_logits=False),\n",
    "              metrics=['sparse_categorical_accuracy'])"
   ]
  },
  {
   "cell_type": "code",
   "execution_count": 5,
   "metadata": {},
   "outputs": [
    {
     "name": "stdout",
     "output_type": "stream",
     "text": [
      "-------------load the model-----------------\n",
      "Train on 60000 samples, validate on 10000 samples\n",
      "Epoch 1/20\n",
      "60000/60000 [==============================] - 41s 690us/sample - loss: 0.1336 - sparse_categorical_accuracy: 0.9567 - val_loss: 0.2865 - val_sparse_categorical_accuracy: 0.9126\n",
      "Epoch 2/20\n",
      "60000/60000 [==============================] - 41s 681us/sample - loss: 0.1118 - sparse_categorical_accuracy: 0.9651 - val_loss: 0.2675 - val_sparse_categorical_accuracy: 0.9192\n",
      "Epoch 3/20\n",
      "60000/60000 [==============================] - 39s 654us/sample - loss: 0.0943 - sparse_categorical_accuracy: 0.9707 - val_loss: 0.2753 - val_sparse_categorical_accuracy: 0.9252\n",
      "Epoch 4/20\n",
      "60000/60000 [==============================] - 40s 660us/sample - loss: 0.0784 - sparse_categorical_accuracy: 0.9778 - val_loss: 0.2968 - val_sparse_categorical_accuracy: 0.9209\n",
      "Epoch 5/20\n",
      "60000/60000 [==============================] - 40s 661us/sample - loss: 0.0673 - sparse_categorical_accuracy: 0.9814 - val_loss: 0.2908 - val_sparse_categorical_accuracy: 0.9186\n",
      "Epoch 6/20\n",
      "60000/60000 [==============================] - 40s 672us/sample - loss: 0.0541 - sparse_categorical_accuracy: 0.9854 - val_loss: 0.3594 - val_sparse_categorical_accuracy: 0.9067\n",
      "Epoch 7/20\n",
      "60000/60000 [==============================] - 40s 674us/sample - loss: 0.0520 - sparse_categorical_accuracy: 0.9860 - val_loss: 0.3621 - val_sparse_categorical_accuracy: 0.9107\n",
      "Epoch 8/20\n",
      "60000/60000 [==============================] - 40s 668us/sample - loss: 0.0416 - sparse_categorical_accuracy: 0.9897 - val_loss: 0.3263 - val_sparse_categorical_accuracy: 0.9201\n",
      "Epoch 9/20\n",
      "60000/60000 [==============================] - 40s 667us/sample - loss: 0.0387 - sparse_categorical_accuracy: 0.9908 - val_loss: 0.3164 - val_sparse_categorical_accuracy: 0.9281\n",
      "Epoch 10/20\n",
      "60000/60000 [==============================] - 40s 669us/sample - loss: 0.0392 - sparse_categorical_accuracy: 0.9903 - val_loss: 0.3329 - val_sparse_categorical_accuracy: 0.9249\n",
      "Epoch 11/20\n",
      "60000/60000 [==============================] - 40s 672us/sample - loss: 0.0288 - sparse_categorical_accuracy: 0.9935 - val_loss: 0.3724 - val_sparse_categorical_accuracy: 0.9198\n",
      "Epoch 12/20\n",
      "60000/60000 [==============================] - 40s 670us/sample - loss: 0.0316 - sparse_categorical_accuracy: 0.9927 - val_loss: 0.3318 - val_sparse_categorical_accuracy: 0.9258\n",
      "Epoch 13/20\n",
      "60000/60000 [==============================] - 40s 669us/sample - loss: 0.0340 - sparse_categorical_accuracy: 0.9918 - val_loss: 0.3167 - val_sparse_categorical_accuracy: 0.9278\n",
      "Epoch 14/20\n",
      "60000/60000 [==============================] - 40s 670us/sample - loss: 0.0270 - sparse_categorical_accuracy: 0.9941 - val_loss: 0.3427 - val_sparse_categorical_accuracy: 0.9251\n",
      "Epoch 15/20\n",
      "60000/60000 [==============================] - 40s 668us/sample - loss: 0.0244 - sparse_categorical_accuracy: 0.9945 - val_loss: 0.5398 - val_sparse_categorical_accuracy: 0.8887\n",
      "Epoch 16/20\n",
      "60000/60000 [==============================] - 40s 669us/sample - loss: 0.0263 - sparse_categorical_accuracy: 0.9938 - val_loss: 0.3592 - val_sparse_categorical_accuracy: 0.9237\n",
      "Epoch 17/20\n",
      "60000/60000 [==============================] - 40s 666us/sample - loss: 0.0272 - sparse_categorical_accuracy: 0.9938 - val_loss: 0.3501 - val_sparse_categorical_accuracy: 0.9229\n",
      "Epoch 18/20\n",
      "60000/60000 [==============================] - 40s 667us/sample - loss: 0.0219 - sparse_categorical_accuracy: 0.9951 - val_loss: 0.3357 - val_sparse_categorical_accuracy: 0.9298\n",
      "Epoch 19/20\n",
      "60000/60000 [==============================] - 40s 668us/sample - loss: 0.0249 - sparse_categorical_accuracy: 0.9943 - val_loss: 0.3269 - val_sparse_categorical_accuracy: 0.9294\n",
      "Epoch 20/20\n",
      "60000/60000 [==============================] - 40s 668us/sample - loss: 0.0169 - sparse_categorical_accuracy: 0.9967 - val_loss: 0.3441 - val_sparse_categorical_accuracy: 0.9318\n",
      "Model: \"res_net18\"\n",
      "_________________________________________________________________\n",
      "Layer (type)                 Output Shape              Param #   \n",
      "=================================================================\n",
      "conv2d (Conv2D)              multiple                  576       \n",
      "_________________________________________________________________\n",
      "batch_normalization (BatchNo multiple                  256       \n",
      "_________________________________________________________________\n",
      "activation (Activation)      multiple                  0         \n",
      "_________________________________________________________________\n",
      "sequential (Sequential)      multiple                  11176448  \n",
      "_________________________________________________________________\n",
      "global_average_pooling2d (Gl multiple                  0         \n",
      "_________________________________________________________________\n",
      "dense (Dense)                multiple                  5130      \n",
      "=================================================================\n",
      "Total params: 11,182,410\n",
      "Trainable params: 11,172,810\n",
      "Non-trainable params: 9,600\n",
      "_________________________________________________________________\n"
     ]
    },
    {
     "data": {
      "image/png": "[encoded data removed]",
      "text/plain": [
       "<Figure size 432x288 with 1 Axes>"
      ]
     },
     "metadata": {
      "needs_background": "light"
     },
     "output_type": "display_data"
    },
    {
     "data": {
      "image/png": "[encoded data removed]",
      "text/plain": [
       "<Figure size 432x288 with 1 Axes>"
      ]
     },
     "metadata": {
      "needs_background": "light"
     },
     "output_type": "display_data"
    }
   ],
   "source": [
    "\n",
    "\n",
    "\n",
    "\n",
    "# 设置断点\n",
    "checkpoint_save_path = \"./checkpoint/ResNet18.ckpt\"\n",
    "if os.path.exists(checkpoint_save_path + '.index'):\n",
    "    print('-------------load the model-----------------')\n",
    "    model.load_weights(checkpoint_save_path)\n",
    "\n",
    "cp_callback = tf.keras.callbacks.ModelCheckpoint(filepath=checkpoint_save_path,\n",
    "                                                 save_weights_only=True,\n",
    "                                                 save_best_only=True)\n",
    "history = model.fit(x_train, y_train, batch_size=128, epochs=20, validation_data=(x_test, y_test), validation_freq=1,\n",
    "                    callbacks=[cp_callback])\n",
    "# 显示结果\n",
    "model.summary()\n",
    "\n",
    "# 保存权重\n",
    "# print(model.trainable_variables)\n",
    "file = open('./weights.txt', 'w')\n",
    "for v in model.trainable_variables:\n",
    "    file.write(str(v.name) + '\\n')\n",
    "    file.write(str(v.shape) + '\\n')\n",
    "    file.write(str(v.numpy()) + '\\n')\n",
    "file.close()\n",
    "\n",
    "# 显示训练集和验证集的acc和loss曲线\n",
    "acc = history.history['sparse_categorical_accuracy']\n",
    "val_acc = history.history['val_sparse_categorical_accuracy']\n",
    "loss = history.history['loss']\n",
    "val_loss = history.history['val_loss']\n",
    "\n",
    "plt.plot(acc, label='Training Accuracy')\n",
    "plt.plot(val_acc, label='Validation Accuracy')\n",
    "plt.title('Training and Validation Accuracy')\n",
    "plt.legend()\n",
    "plt.show()\n",
    "\n",
    "plt.plot(loss, label='Training Loss')\n",
    "plt.plot(val_loss, label='Validation Loss')\n",
    "plt.title('Training and Validation Loss')\n",
    "plt.legend()\n",
    "plt.show()"
   ]
  },
  {
   "cell_type": "code",
   "execution_count": null,
   "metadata": {},
   "outputs": [],
   "source": []
  }
 ],
 "metadata": {
  "kernelspec": {
   "display_name": "Python 3",
   "language": "python",
   "name": "python3"
  },
  "language_info": {
   "codemirror_mode": {
    "name": "ipython",
    "version": 3
   },
   "file_extension": ".py",
   "mimetype": "text/x-python",
   "name": "python",
   "nbconvert_exporter": "python",
   "pygments_lexer": "ipython3",
   "version": "3.7.6"
  }
 },
 "nbformat": 4,
 "nbformat_minor": 4
}
